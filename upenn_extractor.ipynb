{
  "nbformat": 4,
  "nbformat_minor": 0,
  "metadata": {
    "colab": {
      "name": "upenn_extractor.ipynb",
      "provenance": [],
      "collapsed_sections": [],
      "authorship_tag": "ABX9TyMsSpAFsBH1stoDxg8lgaQ6",
      "include_colab_link": true
    },
    "kernelspec": {
      "name": "python3",
      "display_name": "Python 3"
    }
  },
  "cells": [
    {
      "cell_type": "markdown",
      "metadata": {
        "id": "view-in-github",
        "colab_type": "text"
      },
      "source": [
        "<a href=\"https://colab.research.google.com/github/ryry311/482FinalProject/blob/master/upenn_extractor.ipynb\" target=\"_parent\"><img src=\"https://colab.research.google.com/assets/colab-badge.svg\" alt=\"Open In Colab\"/></a>"
      ]
    },
    {
      "cell_type": "code",
      "metadata": {
        "id": "G8ogEhaNcOHV",
        "colab_type": "code",
        "colab": {
          "base_uri": "https://localhost:8080/",
          "height": 98
        },
        "outputId": "ecd1baa2-ab7b-4533-f0f5-e189facbf21a"
      },
      "source": [
        "import requests\n",
        "import time, json \n",
        "from bs4 import BeautifulSoup\n",
        "import nltk \n",
        "import os\n",
        "\n",
        "nltk.download(\"punkt\")\n",
        "nltk.download('averaged_perceptron_tagger')\n",
        "\n",
        "from nltk import pos_tag, word_tokenize,sent_tokenize\n"
      ],
      "execution_count": 1,
      "outputs": [
        {
          "output_type": "stream",
          "text": [
            "[nltk_data] Downloading package punkt to /root/nltk_data...\n",
            "[nltk_data]   Unzipping tokenizers/punkt.zip.\n",
            "[nltk_data] Downloading package averaged_perceptron_tagger to\n",
            "[nltk_data]     /root/nltk_data...\n",
            "[nltk_data]   Unzipping taggers/averaged_perceptron_tagger.zip.\n"
          ],
          "name": "stdout"
        }
      ]
    },
    {
      "cell_type": "code",
      "metadata": {
        "id": "iVd9Lyz8cSkS",
        "colab_type": "code",
        "colab": {}
      },
      "source": [
        "def eventExtractor(html_string):\n",
        "    response = requests.get(html_string)\n",
        "    soup = BeautifulSoup(response.content, \"html.parser\")\n",
        "\n",
        "    contentBlock = soup.find_all(\"article\")\n",
        "    \n",
        "    #missing bolded \"updated\" and \"deadline for submission\" text \n",
        "\n",
        "    event = [] \n",
        "    for article in contentBlock:\n",
        "        rawText = '' \n",
        "        \n",
        "        for title in (article.find_all(\"h2\", {\"class\" : \"node-title\"})):\n",
        "            if(title.text.strip() == \"\"):\n",
        "                continue\n",
        "            rawText += title.text.strip()+'\\n'\n",
        "\n",
        "        for loc in (article.find_all(\"div\", {\"class\" : \"field-items\"})): \n",
        "            if(loc.text.strip() == \"\"):\n",
        "                continue\n",
        "            rawText += loc.text.strip()+'\\n'\n",
        "        \n",
        "        event.append(rawText)\n",
        "\n",
        "    return event "
      ],
      "execution_count": 0,
      "outputs": []
    },
    {
      "cell_type": "code",
      "metadata": {
        "id": "zpfP8nz6ciKK",
        "colab_type": "code",
        "colab": {}
      },
      "source": [
        "def upenn_json(dataTable):\n",
        "    upenn_event_json = [] \n",
        "\n",
        "    for entry in dataTable: \n",
        "        entry_dict = {}\n",
        "        meta_data = entry.split(\"\\n\")\n",
        "\n",
        "        title  = meta_data[0]\n",
        "        publisher_and_location = meta_data[2]\n",
        "        submission_deadline = meta_data[3]\n",
        "\n",
        "        separator = \" ,\"\n",
        "        description = separator.join(meta_data[4:-1])\n",
        "\n",
        "        entry_dict['title'] = title\n",
        "        entry_dict['publisher_and_location'] = publisher_and_location\n",
        "        entry_dict['submission_deadline'] = submission_deadline\n",
        "        entry_dict['description'] = description\n",
        "\n",
        "        upenn_event_json.append(entry_dict)\n",
        "\n",
        "    return upenn_event_json"
      ],
      "execution_count": 0,
      "outputs": []
    },
    {
      "cell_type": "code",
      "metadata": {
        "id": "RI8bkTdJcUjA",
        "colab_type": "code",
        "colab": {
          "base_uri": "https://localhost:8080/",
          "height": 342
        },
        "outputId": "7143283f-8dc5-4a56-accb-560b0f574066"
      },
      "source": [
        "\n",
        "data = [] \n",
        "\n",
        "for x in range(20):\n",
        "    url = \"https://call-for-papers.sas.upenn.edu/category/all/backtrack?page={}\".format(x)\n",
        "    print(url)\n",
        "    pageEvent = eventExtractor(url)\n",
        "    data += (pageEvent)\n",
        "\n",
        "\n",
        "\n"
      ],
      "execution_count": 6,
      "outputs": [
        {
          "output_type": "stream",
          "text": [
            "https://call-for-papers.sas.upenn.edu/category/all/backtrack?page=0\n",
            "https://call-for-papers.sas.upenn.edu/category/all/backtrack?page=1\n",
            "https://call-for-papers.sas.upenn.edu/category/all/backtrack?page=2\n",
            "https://call-for-papers.sas.upenn.edu/category/all/backtrack?page=3\n",
            "https://call-for-papers.sas.upenn.edu/category/all/backtrack?page=4\n",
            "https://call-for-papers.sas.upenn.edu/category/all/backtrack?page=5\n",
            "https://call-for-papers.sas.upenn.edu/category/all/backtrack?page=6\n",
            "https://call-for-papers.sas.upenn.edu/category/all/backtrack?page=7\n",
            "https://call-for-papers.sas.upenn.edu/category/all/backtrack?page=8\n",
            "https://call-for-papers.sas.upenn.edu/category/all/backtrack?page=9\n",
            "https://call-for-papers.sas.upenn.edu/category/all/backtrack?page=10\n",
            "https://call-for-papers.sas.upenn.edu/category/all/backtrack?page=11\n",
            "https://call-for-papers.sas.upenn.edu/category/all/backtrack?page=12\n",
            "https://call-for-papers.sas.upenn.edu/category/all/backtrack?page=13\n",
            "https://call-for-papers.sas.upenn.edu/category/all/backtrack?page=14\n",
            "https://call-for-papers.sas.upenn.edu/category/all/backtrack?page=15\n",
            "https://call-for-papers.sas.upenn.edu/category/all/backtrack?page=16\n",
            "https://call-for-papers.sas.upenn.edu/category/all/backtrack?page=17\n",
            "https://call-for-papers.sas.upenn.edu/category/all/backtrack?page=18\n",
            "https://call-for-papers.sas.upenn.edu/category/all/backtrack?page=19\n"
          ],
          "name": "stdout"
        }
      ]
    },
    {
      "cell_type": "code",
      "metadata": {
        "id": "e4XxVHkzca0L",
        "colab_type": "code",
        "colab": {}
      },
      "source": [
        "upenn_json = upenn_json(data)\n",
        "upenn_json_obj = json.dumps(upenn_json)\n",
        "\n",
        "with open(\"uppen_events.json\", \"w\") as outfile: \n",
        "    outfile.write(upenn_json_obj) "
      ],
      "execution_count": 0,
      "outputs": []
    },
    {
      "cell_type": "code",
      "metadata": {
        "id": "oL0ihqPLdQwg",
        "colab_type": "code",
        "colab": {}
      },
      "source": [
        ""
      ],
      "execution_count": 0,
      "outputs": []
    }
  ]
}